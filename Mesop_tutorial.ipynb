{
  "nbformat": 4,
  "nbformat_minor": 0,
  "metadata": {
    "colab": {
      "provenance": [],
      "private_outputs": true,
      "include_colab_link": true
    },
    "kernelspec": {
      "name": "python3",
      "display_name": "Python 3"
    },
    "language_info": {
      "name": "python"
    }
  },
  "cells": [
    {
      "cell_type": "markdown",
      "metadata": {
        "id": "view-in-github",
        "colab_type": "text"
      },
      "source": [
        "<a href=\"https://colab.research.google.com/github/ykitaguchi77/Mesop/blob/main/Mesop_tutorial.ipynb\" target=\"_parent\"><img src=\"https://colab.research.google.com/assets/colab-badge.svg\" alt=\"Open In Colab\"/></a>"
      ]
    },
    {
      "cell_type": "markdown",
      "source": [
        "# Mesop\n",
        "\n",
        "https://google.github.io/mesop/\n",
        "\n",
        "Mesop is a Python-based UI framework that allows you to rapidly build web apps like demos and internal apps\n"
      ],
      "metadata": {
        "id": "8r6nOL0xPfyU"
      }
    },
    {
      "cell_type": "markdown",
      "source": [
        "# Getting Started"
      ],
      "metadata": {
        "id": "ZCtrRuMdPpJG"
      }
    },
    {
      "cell_type": "code",
      "source": [
        "!pip install mesop"
      ],
      "metadata": {
        "id": "buRfwUlqPons"
      },
      "execution_count": null,
      "outputs": []
    },
    {
      "cell_type": "code",
      "source": [
        "import mesop as me\n",
        "import mesop.labs as mel\n",
        "\n",
        "me.colab_run()"
      ],
      "metadata": {
        "id": "hnyh1SX_P1XV"
      },
      "execution_count": null,
      "outputs": []
    },
    {
      "cell_type": "markdown",
      "source": [
        "# Mesop Examples"
      ],
      "metadata": {
        "id": "jNb8UJbpPwNj"
      }
    },
    {
      "cell_type": "markdown",
      "source": [
        "## Hello World"
      ],
      "metadata": {
        "id": "EKtdsEFKP_te"
      }
    },
    {
      "cell_type": "code",
      "execution_count": null,
      "metadata": {
        "id": "4NGHpjd5PZld"
      },
      "outputs": [],
      "source": [
        "@me.page(path=\"/hello_world\")\n",
        "def hello_world():\n",
        "  me.text(\"Hello World!\")"
      ]
    },
    {
      "cell_type": "code",
      "source": [
        "me.colab_show(path=\"/hello_world\", height=100)"
      ],
      "metadata": {
        "id": "AqBWw22vP4vI"
      },
      "execution_count": null,
      "outputs": []
    },
    {
      "cell_type": "markdown",
      "source": [
        "## Simple Chat"
      ],
      "metadata": {
        "id": "_l1xYfyHQBS-"
      }
    },
    {
      "cell_type": "code",
      "source": [
        "@me.page(path=\"/chat\")\n",
        "def chat():\n",
        "  mel.chat(transform)\n",
        "\n",
        "def transform(prompt: str, history: list[mel.ChatMessage]) -> str:\n",
        "  return \"Hello \" + prompt"
      ],
      "metadata": {
        "id": "dhKgb-YfQDHJ"
      },
      "execution_count": null,
      "outputs": []
    },
    {
      "cell_type": "code",
      "source": [
        "me.colab_show(path=\"/chat\")"
      ],
      "metadata": {
        "id": "JhgA_hFbQFCl"
      },
      "execution_count": null,
      "outputs": []
    },
    {
      "cell_type": "markdown",
      "source": [
        "# Chat App"
      ],
      "metadata": {
        "id": "mQW9q2jKMg2s"
      }
    },
    {
      "cell_type": "code",
      "source": [
        "import random\n",
        "import time\n",
        "\n",
        "import mesop as me\n",
        "import mesop.labs as mel\n",
        "\n",
        "\n",
        "@me.page(\n",
        "  security_policy=me.SecurityPolicy(\n",
        "    allowed_iframe_parents=[\"https://google.github.io\"]\n",
        "  ),\n",
        "  path=\"/chat\",\n",
        "  title=\"Mesop Demo Chat\",\n",
        ")\n",
        "def page():\n",
        "  mel.chat(transform, title=\"Mesop Demo Chat\", bot_user=\"Mesop Bot\")\n",
        "\n",
        "\n",
        "def transform(input: str, history: list[mel.ChatMessage]):\n",
        "  for line in random.sample(LINES, random.randint(3, len(LINES) - 1)):\n",
        "    time.sleep(0.3)\n",
        "    yield line + \" \"\n",
        "\n",
        "\n",
        "LINES = [\n",
        "  \"Mesop is a Python-based UI framework designed to simplify web UI development for engineers without frontend experience.\",\n",
        "  \"It leverages the power of the Angular web framework and Angular Material components, allowing rapid construction of web demos and internal tools.\",\n",
        "  \"With Mesop, developers can enjoy a fast build-edit-refresh loop thanks to its hot reload feature, making UI tweaks and component integration seamless.\",\n",
        "  \"Deployment is straightforward, utilizing standard HTTP technologies.\",\n",
        "  \"Mesop's component library aims for comprehensive Angular Material component coverage, enhancing UI flexibility and composability.\",\n",
        "  \"It supports custom components for specific use cases, ensuring developers can extend its capabilities to fit their unique requirements.\",\n",
        "  \"Mesop's roadmap includes expanding its component library and simplifying the onboarding processs.\",\n",
        "]\n"
      ],
      "metadata": {
        "id": "sYh3JdeUMjc_"
      },
      "execution_count": null,
      "outputs": []
    },
    {
      "cell_type": "code",
      "source": [
        "me.colab_show(path=\"/chat\")"
      ],
      "metadata": {
        "id": "xRBiNt17NDSX"
      },
      "execution_count": null,
      "outputs": []
    }
  ]
}